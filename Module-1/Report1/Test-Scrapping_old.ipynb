{
 "cells": [
  {
   "cell_type": "code",
   "execution_count": 1,
   "metadata": {
    "colab": {
     "base_uri": "https://localhost:8080/"
    },
    "executionInfo": {
     "elapsed": 392,
     "status": "ok",
     "timestamp": 1726587916140,
     "user": {
      "displayName": "Marcel Grosjean",
      "userId": "08082275798775230771"
     },
     "user_tz": -120
    },
    "id": "QCAjDL4cqFxO",
    "outputId": "223c6d4e-f4d5-4d43-923f-31b0b4b2dd8c"
   },
   "outputs": [
    {
     "name": "stdout",
     "output_type": "stream",
     "text": [
      "Status code of swiss: 200\n",
      "Done.\n"
     ]
    }
   ],
   "source": [
    "import requests\n",
    "\n",
    "swiss_request = requests.get(\"https://www.homegate.ch/rent/apartment/country-switzerland/matching-list\")\n",
    "swiss_request.encoding = 'utf-8'\n",
    "print(f\"Status code of swiss: {swiss_request.status_code}\")\n",
    "\n",
    "print(\"Done.\")"
   ]
  },
  {
   "cell_type": "code",
   "execution_count": null,
   "metadata": {
    "id": "6JLYJxx3qIxm"
   },
   "outputs": [],
   "source": []
  }
 ],
 "metadata": {
  "colab": {
   "authorship_tag": "ABX9TyOZl6Cs2hRf0zbptg2fTL26",
   "provenance": []
  },
  "kernelspec": {
   "display_name": "Python 3 (ipykernel)",
   "language": "python",
   "name": "python3"
  },
  "language_info": {
   "codemirror_mode": {
    "name": "ipython",
    "version": 3
   },
   "file_extension": ".py",
   "mimetype": "text/x-python",
   "name": "python",
   "nbconvert_exporter": "python",
   "pygments_lexer": "ipython3",
   "version": "3.12.5"
  }
 },
 "nbformat": 4,
 "nbformat_minor": 4
}
