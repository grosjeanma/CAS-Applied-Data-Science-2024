{
 "cells": [
  {
   "cell_type": "markdown",
   "id": "24fc66df-be61-4263-b414-ab3ae4427274",
   "metadata": {},
   "source": [
    "# Custom YoloV1"
   ]
  },
  {
   "cell_type": "code",
   "execution_count": null,
   "id": "4e05819e-fa3b-47dd-8d12-e9070c220a0b",
   "metadata": {},
   "outputs": [
    {
     "ename": "",
     "evalue": "",
     "output_type": "error",
     "traceback": [
      "\u001b[1;31mRunning cells with 'Python 3.12.4' requires the ipykernel package.\n",
      "\u001b[1;31mRun the following command to install 'ipykernel' into the Python environment. \n",
      "\u001b[1;31mCommand: '/opt/homebrew/bin/python3 -m pip install ipykernel -U --user --force-reinstall'"
     ]
    }
   ],
   "source": [
    "print(\"yolo\")"
   ]
  },
  {
   "cell_type": "code",
   "execution_count": null,
   "id": "ea6bc9e1-8ab2-42a4-ac7b-6d9b94be96d5",
   "metadata": {},
   "outputs": [],
   "source": []
  }
 ],
 "metadata": {
  "kernelspec": {
   "display_name": "Python 3",
   "language": "python",
   "name": "python3"
  },
  "language_info": {
   "codemirror_mode": {
    "name": "ipython",
    "version": 3
   },
   "file_extension": ".py",
   "mimetype": "text/x-python",
   "name": "python",
   "nbconvert_exporter": "python",
   "pygments_lexer": "ipython3",
   "version": "3.12.4"
  }
 },
 "nbformat": 4,
 "nbformat_minor": 5
}
