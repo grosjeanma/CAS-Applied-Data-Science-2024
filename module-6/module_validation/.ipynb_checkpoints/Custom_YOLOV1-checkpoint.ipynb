{
 "cells": [
  {
   "cell_type": "markdown",
   "id": "4ad39cad-d43d-4ec6-b763-c952bd010f3c",
   "metadata": {},
   "source": [
    "# YoloV3"
   ]
  },
  {
   "cell_type": "markdown",
   "id": "c9ec0520-48e0-45ba-b938-bbfb43fb356a",
   "metadata": {},
   "source": [
    "## Download COCO dataset"
   ]
  },
  {
   "cell_type": "code",
   "execution_count": null,
   "id": "b6761874-901a-4898-8e96-abd0e412ecd0",
   "metadata": {},
   "outputs": [],
   "source": []
  }
 ],
 "metadata": {
  "kernelspec": {
   "display_name": "Python 3 (ipykernel)",
   "language": "python",
   "name": "python3"
  },
  "language_info": {
   "codemirror_mode": {
    "name": "ipython",
    "version": 3
   },
   "file_extension": ".py",
   "mimetype": "text/x-python",
   "name": "python",
   "nbconvert_exporter": "python",
   "pygments_lexer": "ipython3",
   "version": "3.12.2"
  }
 },
 "nbformat": 4,
 "nbformat_minor": 5
}
