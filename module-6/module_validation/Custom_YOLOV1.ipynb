{
 "cells": [
  {
   "cell_type": "markdown",
   "id": "4ad39cad-d43d-4ec6-b763-c952bd010f3c",
   "metadata": {},
   "source": [
    "# YoloV3"
   ]
  },
  {
   "cell_type": "markdown",
   "id": "c9ec0520-48e0-45ba-b938-bbfb43fb356a",
   "metadata": {},
   "source": [
    "## Download COCO dataset\n",
    "\n",
    "We're going to use COCO dataset 2017 to train, validate and test our model.\n",
    "The can be found on the following url: \n",
    "* [COCO 2017 train](http://images.cocodataset.org/zips/train2017.zip)\n",
    "* [COCO 2017 val](http://images.cocodataset.org/zips/val2017.zip)\n",
    "* [COCO 2017 test](http://images.cocodataset.org/zips/test2017.zip)"
   ]
  },
  {
   "cell_type": "code",
   "execution_count": 2,
   "id": "b6761874-901a-4898-8e96-abd0e412ecd0",
   "metadata": {},
   "outputs": [
    {
     "name": "stdout",
     "output_type": "stream",
     "text": [
      "coucou\n"
     ]
    }
   ],
   "source": [
    "# Download the training data\n"
   ]
  },
  {
   "cell_type": "code",
   "execution_count": null,
   "id": "f37b25b0",
   "metadata": {},
   "outputs": [],
   "source": []
  }
 ],
 "metadata": {
  "kernelspec": {
   "display_name": "Python 3",
   "language": "python",
   "name": "python3"
  },
  "language_info": {
   "codemirror_mode": {
    "name": "ipython",
    "version": 3
   },
   "file_extension": ".py",
   "mimetype": "text/x-python",
   "name": "python",
   "nbconvert_exporter": "python",
   "pygments_lexer": "ipython3",
   "version": "3.12.4"
  }
 },
 "nbformat": 4,
 "nbformat_minor": 5
}
