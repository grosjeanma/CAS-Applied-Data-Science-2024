{
 "cells": [
  {
   "cell_type": "markdown",
   "id": "4ad39cad-d43d-4ec6-b763-c952bd010f3c",
   "metadata": {},
   "source": [
    "# YoloV3\n",
    "\n",
    "https://www.youtube.com/watch?v=n9_XyCGr-MI"
   ]
  },
  {
   "cell_type": "markdown",
   "id": "c9ec0520-48e0-45ba-b938-bbfb43fb356a",
   "metadata": {},
   "source": [
    "## Download COCO dataset\n",
    "\n",
    "We're going to use COCO dataset 2017 to train, validate and test our model.\n",
    "The can be found on the following url: \n",
    "* [COCO 2017 train](http://images.cocodataset.org/zips/train2017.zip)\n",
    "* [COCO 2017 val](http://images.cocodataset.org/zips/val2017.zip)\n",
    "* [COCO 2017 test](http://images.cocodataset.org/zips/test2017.zip)"
   ]
  },
  {
   "cell_type": "markdown",
   "id": "df70d99d",
   "metadata": {},
   "source": [
    "## Install some required packages"
   ]
  },
  {
   "cell_type": "code",
   "execution_count": 8,
   "id": "e754198f",
   "metadata": {},
   "outputs": [
    {
     "name": "stdout",
     "output_type": "stream",
     "text": [
      "\n",
      "\u001b[1m[\u001b[0m\u001b[34;49mnotice\u001b[0m\u001b[1;39;49m]\u001b[0m\u001b[39;49m A new release of pip is available: \u001b[0m\u001b[31;49m24.0\u001b[0m\u001b[39;49m -> \u001b[0m\u001b[32;49m24.3.1\u001b[0m\n",
      "\u001b[1m[\u001b[0m\u001b[34;49mnotice\u001b[0m\u001b[1;39;49m]\u001b[0m\u001b[39;49m To update, run: \u001b[0m\u001b[32;49mpython3.12 -m pip install --upgrade pip\u001b[0m\n",
      "Note: you may need to restart the kernel to use updated packages.\n"
     ]
    }
   ],
   "source": [
    "pip install requests --break-system-packages >> /dev/null\n"
   ]
  },
  {
   "cell_type": "code",
   "execution_count": 10,
   "id": "b6761874-901a-4898-8e96-abd0e412ecd0",
   "metadata": {},
   "outputs": [],
   "source": [
    "import os\n",
    "import requests\n",
    "\n",
    "def download_dataset(url, save_path):\n",
    "    # Download the training data\n",
    "    os.makedirs(os.path.dirname(save_path), exist_ok=True)\n",
    "    response = requests.get(url)\n",
    "    response.raise_for_status()  # Check if the request was successful\n",
    "    \n",
    "    # Save the file\n",
    "    with open(save_path, 'wb') as file:\n",
    "        file.write(response.content)\n",
    "    print(f\"File downloaded and saved to {save_path}\")"
   ]
  },
  {
   "cell_type": "code",
   "execution_count": null,
   "id": "f50eb2d9",
   "metadata": {},
   "outputs": [],
   "source": [
    "# Download the Training dataset\n",
    "download_dataset(\"http://images.cocodataset.org/zips/train2017.zip\", \"dataset/train\")"
   ]
  },
  {
   "cell_type": "code",
   "execution_count": null,
   "id": "f37b25b0",
   "metadata": {},
   "outputs": [],
   "source": []
  }
 ],
 "metadata": {
  "kernelspec": {
   "display_name": "Python 3 (ipykernel)",
   "language": "python",
   "name": "python3"
  },
  "language_info": {
   "codemirror_mode": {
    "name": "ipython",
    "version": 3
   },
   "file_extension": ".py",
   "mimetype": "text/x-python",
   "name": "python",
   "nbconvert_exporter": "python",
   "pygments_lexer": "ipython3",
   "version": "3.12.2"
  }
 },
 "nbformat": 4,
 "nbformat_minor": 5
}
