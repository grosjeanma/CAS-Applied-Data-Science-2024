{
 "cells": [
  {
   "cell_type": "code",
   "execution_count": null,
   "metadata": {
    "id": "uMGVjU25TLzx"
   },
   "outputs": [],
   "source": []
  },
  {
   "cell_type": "markdown",
   "metadata": {
    "id": "gg8g6scvTgnS"
   },
   "source": [
    "# Tutorial I: Introduction to PyTorch (torch)\n",
    "<p>\n",
    "Bern Winter School on Machine Learning, 2024<br>\n",
    "Prepared by Mykhailo Vladymyrov and Matthew Vowels.\n",
    "</p>\n",
    "\n",
    "This work is licensed under a <a href=\"http://creativecommons.org/licenses/by-nc-sa/4.0/\">Creative Commons Attribution-NonCommercial-ShareAlike 4.0 International License</a>.\n",
    "\n",
    "In this tutorial session we will get familiar wtih:\n",
    "* How to do optimization in torch and what possibilities does that open to data science\n",
    "* how to apply that to virtually any practical problem\n",
    "   * unordered/tabular data\n",
    "   * data with continuous dimensions\n",
    "   * sequential data\n",
    "\n",
    "\n",
    "\n",
    "torch provides a high-level interface, allowing easy implementation.\n",
    "\n",
    "While it is easy to use, some fundamental conceps can remain a bit obscured, but we will try to clarify that in the course."
   ]
  },
  {
   "cell_type": "markdown",
   "metadata": {
    "id": "fALIgdeITg55"
   },
   "source": [
    "## 00. Requirements\n",
    "\n",
    "To run this notebooks you need torch and numpy installed.\n",
    "As some parts of this tutorial rely on specific functions, it's strongly advised to use the Chrome browser or Chromium derivatives.\n",
    "\n",
    "Basic knowledge of Python can be acquired [here](https://docs.python.org/3/tutorial/) and of Numpy [here](https://docs.scipy.org/doc/numpy/user/quickstart.html)\n",
    "\n",
    "Full documentation on torch functions is available in the [reference](https://pytorch.org/docs/stable/index.html).\n"
   ]
  },
  {
   "cell_type": "markdown",
   "metadata": {
    "id": "87oX-c-FTg_J"
   },
   "source": [
    "## 0. Cell execution\n",
    "\n",
    "> Indented block\n",
    "Press ``Ctrl+Enter`` or ``Shift+Enter`` on the next cell to execute the content\n"
   ]
  },
  {
   "cell_type": "code",
   "execution_count": 30,
   "metadata": {
    "id": "xlblJm2DUL7Q"
   },
   "outputs": [
    {
     "name": "stdout",
     "output_type": "stream",
     "text": [
      "It works!\n"
     ]
    }
   ],
   "source": [
    "print('It works!')"
   ]
  },
  {
   "cell_type": "markdown",
   "metadata": {
    "id": "ASNnoSiUURJB"
   },
   "source": [
    "Navigate between cells with arrows. Press `Enter` to edit cell, `Esc` to exit."
   ]
  },
  {
   "cell_type": "code",
   "execution_count": 32,
   "metadata": {
    "id": "XMZ1Z7s-UaxJ"
   },
   "outputs": [
    {
     "name": "stdout",
     "output_type": "stream",
     "text": [
      "Requirement already satisfied: torch in /opt/anaconda3/lib/python3.12/site-packages (2.5.1)\n",
      "Requirement already satisfied: torchvision in /opt/anaconda3/lib/python3.12/site-packages (0.20.1)\n",
      "Requirement already satisfied: torchaudio in /opt/anaconda3/lib/python3.12/site-packages (2.5.1)\n",
      "Requirement already satisfied: filelock in /opt/anaconda3/lib/python3.12/site-packages (from torch) (3.13.1)\n",
      "Requirement already satisfied: typing-extensions>=4.8.0 in /opt/anaconda3/lib/python3.12/site-packages (from torch) (4.11.0)\n",
      "Requirement already satisfied: networkx in /opt/anaconda3/lib/python3.12/site-packages (from torch) (3.2.1)\n",
      "Requirement already satisfied: jinja2 in /opt/anaconda3/lib/python3.12/site-packages (from torch) (3.1.4)\n",
      "Requirement already satisfied: fsspec in /opt/anaconda3/lib/python3.12/site-packages (from torch) (2024.3.1)\n",
      "Requirement already satisfied: setuptools in /opt/anaconda3/lib/python3.12/site-packages (from torch) (69.5.1)\n",
      "Requirement already satisfied: sympy==1.13.1 in /opt/anaconda3/lib/python3.12/site-packages (from torch) (1.13.1)\n",
      "Requirement already satisfied: mpmath<1.4,>=1.1.0 in /opt/anaconda3/lib/python3.12/site-packages (from sympy==1.13.1->torch) (1.3.0)\n",
      "Requirement already satisfied: numpy in /opt/anaconda3/lib/python3.12/site-packages (from torchvision) (1.26.4)\n",
      "Requirement already satisfied: pillow!=8.3.*,>=5.3.0 in /opt/anaconda3/lib/python3.12/site-packages (from torchvision) (10.3.0)\n",
      "Requirement already satisfied: MarkupSafe>=2.0 in /opt/anaconda3/lib/python3.12/site-packages (from jinja2->torch) (2.1.3)\n",
      "Note: you may need to restart the kernel to use updated packages.\n"
     ]
    }
   ],
   "source": [
    "pip install torch torchvision torchaudio"
   ]
  },
  {
   "cell_type": "markdown",
   "metadata": {
    "id": "XMZ1Z7s-UaxJ"
   },
   "source": [
    "## 1. Load necessary libraries"
   ]
  },
  {
   "cell_type": "code",
   "execution_count": 36,
   "metadata": {
    "id": "rE6mOT8aUR6o"
   },
   "outputs": [],
   "source": [
    "import os\n",
    "import sys\n",
    "import tarfile\n",
    "import requests\n",
    "\n",
    "import numpy as np\n",
    "import matplotlib.pyplot as plt\n",
    "\n",
    "import torch\n",
    "import torch.nn as nn\n",
    "import torch.nn.functional as F\n",
    "import torch.optim as optim\n"
   ]
  },
  {
   "cell_type": "markdown",
   "metadata": {
    "id": "JmER6N64ZUZP"
   },
   "source": [
    "### Download libraries"
   ]
  },
  {
   "cell_type": "code",
   "execution_count": 38,
   "metadata": {
    "id": "Sl58R8WeUf0a"
   },
   "outputs": [
    {
     "name": "stdout",
     "output_type": "stream",
     "text": [
      "Done downloading.\n"
     ]
    }
   ],
   "source": [
    "# URL of the file to download\n",
    "url = 'https://github.com/neworldemancer/BMLWS/raw/main/tut_files/tpub0320.tgz'\n",
    "\n",
    "# Path where the file will be saved\n",
    "path = os.path.abspath('.') + '/material.tgz'\n",
    "\n",
    "# Download the file\n",
    "response = requests.get(url)\n",
    "assert response.status_code == 200, \"Download failed\"\n",
    "with open(path, 'wb') as file:\n",
    "    file.write(response.content)\n",
    "\n",
    "# Check if the path is correct\n",
    "assert os.path.exists(path), \"File not found\"\n",
    "\n",
    "# Extract the tar file\n",
    "tar = tarfile.open(path, \"r:gz\")\n",
    "tar.extractall()\n",
    "tar.close()\n",
    "\n",
    "print(f\"Done downloading.\")"
   ]
  },
  {
   "cell_type": "markdown",
   "metadata": {
    "id": "5p2LCP4zaAgP"
   },
   "source": [
    "## 2. Create our first model\n",
    "\n",
    "First we need to define the input for the model. We will create `Input`, where during the excecution we will feed in the input values."
   ]
  },
  {
   "cell_type": "code",
   "execution_count": 42,
   "metadata": {
    "id": "RjEsEDZbZV5P"
   },
   "outputs": [],
   "source": [
    "class SimpleModel(nn.Module):\n",
    "    def __init__(self):\n",
    "        super(SimpleModel, self).__init__()\n",
    "\n",
    "    def forward(self, x):\n",
    "        out1 = x + 2\n",
    "        return x * out1\n",
    "\n",
    "# Create an instance of the model\n",
    "model = SimpleModel()\n",
    "\n",
    "# Example of using the model with dummy input\n",
    "input_tensor = torch.tensor(1.0)  # Example input\n",
    "output = model(input_tensor)\n"
   ]
  },
  {
   "cell_type": "code",
   "execution_count": null,
   "metadata": {
    "id": "rgLCYhrCosL8"
   },
   "outputs": [],
   "source": []
  },
  {
   "cell_type": "markdown",
   "metadata": {
    "id": "CnRft8Fga541"
   },
   "source": [
    "## 3. Run the model\n"
   ]
  },
  {
   "cell_type": "code",
   "execution_count": 44,
   "metadata": {
    "id": "Xt-3tKzca-3t"
   },
   "outputs": [
    {
     "name": "stdout",
     "output_type": "stream",
     "text": [
      "tensor(35.)\n"
     ]
    }
   ],
   "source": [
    "out_res = model(torch.tensor(5.0))\n",
    "print(out_res)\n"
   ]
  },
  {
   "cell_type": "code",
   "execution_count": 46,
   "metadata": {
    "id": "RPJf5StypN8D"
   },
   "outputs": [
    {
     "data": {
      "text/plain": [
       "torch.Tensor"
      ]
     },
     "execution_count": 46,
     "metadata": {},
     "output_type": "execute_result"
    }
   ],
   "source": [
    "type(out_res)"
   ]
  },
  {
   "cell_type": "markdown",
   "metadata": {
    "id": "hsenbNgdbDnl"
   },
   "source": [
    "Several values can be computed at the same time:"
   ]
  },
  {
   "cell_type": "code",
   "execution_count": 48,
   "metadata": {
    "id": "Ta6YZSpcaa91"
   },
   "outputs": [
    {
     "name": "stdout",
     "output_type": "stream",
     "text": [
      "tensor([3, 8, 3])\n"
     ]
    }
   ],
   "source": [
    "out_val = model(torch.tensor([1, 2, 1]))\n",
    "print(out_val)"
   ]
  },
  {
   "cell_type": "markdown",
   "metadata": {
    "id": "dmSH2VjZbeP0"
   },
   "source": [
    "## 4. Tensor operations\n",
    "\n",
    "For ML tasks we often need to perform operations on high-dimensional data. Theese are represented as tensors in torch. For example we can calculate sum of squared values in an 1D array with 5 elements:"
   ]
  },
  {
   "cell_type": "code",
   "execution_count": 50,
   "metadata": {
    "id": "9tjrpbLwaoA1"
   },
   "outputs": [
    {
     "name": "stdout",
     "output_type": "stream",
     "text": [
      "tensor(10)\n"
     ]
    }
   ],
   "source": [
    "class SimpleModel2(nn.Module):\n",
    "    def __init__(self):\n",
    "        super(SimpleModel2, self).__init__()\n",
    "\n",
    "    def forward(self, x):\n",
    "        out1 = x + 2\n",
    "        return torch.sum(out1)\n",
    "\n",
    "\n",
    "model2 = SimpleModel2()\n",
    "out_val = model2(torch.tensor([1, 2, 1]))\n",
    "print(out_val)"
   ]
  },
  {
   "cell_type": "markdown",
   "metadata": {
    "id": "sfMe-WehcGVT"
   },
   "source": [
    "Or we can do the same for several 1D arrays at once:"
   ]
  },
  {
   "cell_type": "code",
   "execution_count": null,
   "metadata": {
    "id": "JGb9Zinwb1jb"
   },
   "outputs": [],
   "source": [
    "class SimpleModel3(nn.Module):\n",
    "    def __init__(self):\n",
    "        super(SimpleModel3, self).__init__()\n",
    "\n",
    "    def forward(self, x):\n",
    "        out1 = x + 2\n",
    "        return torch.sum(out1, axis=1)\n",
    "\n",
    "\n",
    "model3 = SimpleModel3()\n",
    "array = torch.tensor([[1,2,1],[1,2,1],[2,1,2],[2,1,2]])\n",
    "print('input shape:', array.shape)\n",
    "\n",
    "out_vals = model3(array)\n",
    "print('output shape:', out_vals.shape)\n",
    "print('output:', out_vals)"
   ]
  },
  {
   "cell_type": "markdown",
   "metadata": {
    "id": "IaFgi162c9_C"
   },
   "source": [
    "## 5. Exercise 1"
   ]
  },
  {
   "cell_type": "code",
   "execution_count": null,
   "metadata": {
    "id": "6lXaa1iocdgj"
   },
   "outputs": [],
   "source": [
    "torch.sum?"
   ]
  },
  {
   "cell_type": "markdown",
   "metadata": {
    "id": "OrAi5OOCdGn6"
   },
   "source": [
    "Modify the code bellow to calculate mean of array's elements."
   ]
  },
  {
   "cell_type": "code",
   "execution_count": null,
   "metadata": {
    "id": "pQSZfDxZdEOC"
   },
   "outputs": [],
   "source": [
    "class MeanModel(nn.Module):\n",
    "    def __init__(self):\n",
    "        super(MeanModel, self).__init__()\n",
    "\n",
    "    def forward(self, x):\n",
    "        return  ???\n",
    "\n",
    "# define data:\n",
    "arr = torch.tensor([[1,2,3,4,5], [2,3,4,5.1,6], [25,65,12,12,11]])\n",
    "\n",
    "model = ???  # define model\n",
    "result = ???  # run model\n",
    "\n",
    "print(result)"
   ]
  },
  {
   "cell_type": "markdown",
   "metadata": {
    "id": "eM1uPaXbds4i"
   },
   "source": [
    "## 6. Optimization problem\n",
    "\n",
    "In ML we always try to optimize model parameters to minimize a loss function. pytorch provides easy interface for solving optimization problems.\n",
    "\n",
    "Let's see how this works. We will use a function $f$, parabolic with respect to the model parameter $t$: $f(x_0, x_1|t) = (x_0*t-x_1)^2$. Here $x_0$ and $x_1$ are given values for which we will try to minimize value of function $f$ by modifying $t$.\n",
    "\n",
    "\n"
   ]
  },
  {
   "cell_type": "code",
   "execution_count": null,
   "metadata": {
    "id": "TQWFqxPidcT5"
   },
   "outputs": [],
   "source": [
    "class FLayer(nn.Module):\n",
    "    def __init__(self):\n",
    "        super(FLayer, self).__init__()\n",
    "        self.t = nn.Parameter(torch.tensor(0.0))  # Initializing as a learnable parameter\n",
    "\n",
    "    def forward(self, x):\n",
    "        x0 = x[..., 0]   # the ellipsis here selects all previous dimensions as they are, and the last as dim 0\n",
    "        x1 = x[..., 1]   # the ellipsis here selects all previous dimensions as they are, and the last as dim 1\n",
    "        return (x0 * self.t - x1) ** 2\n",
    "\n",
    "        # df/dt = 2 * (x0 * self.t - x1) * x0"
   ]
  },
  {
   "cell_type": "markdown",
   "metadata": {
    "id": "N802UDEleIoh"
   },
   "source": [
    "For simplicity we will keep $x_0$ and $x_1$ in an array: `x` = [$x_0$, $x_1$]"
   ]
  },
  {
   "cell_type": "code",
   "execution_count": null,
   "metadata": {
    "id": "-XEnxV0keJIo"
   },
   "outputs": [],
   "source": [
    "model = FLayer()"
   ]
  },
  {
   "cell_type": "markdown",
   "metadata": {
    "id": "UP0wnuYsfmYn"
   },
   "source": [
    "Next we create an optimizer: object that on each iteration adjusts values of all trainable parameters (in our case just `t` to minimize the value of `f`.\n",
    "Here we will use plain steepest gradient descent.\n",
    "\n",
    "We will minimize the value of the models output."
   ]
  },
  {
   "cell_type": "code",
   "execution_count": null,
   "metadata": {
    "id": "oDEtEb4M0GMA"
   },
   "outputs": [],
   "source": [
    "for p in model.parameters():\n",
    "  print(p)"
   ]
  },
  {
   "cell_type": "code",
   "execution_count": null,
   "metadata": {
    "id": "07BKIbDYfl6A"
   },
   "outputs": [],
   "source": [
    "model = FLayer()\n",
    "\n",
    "# Optimizer (e.g., SGD or Adam)\n",
    "optimizer = optim.SGD(model.parameters(), lr=0.01)\n",
    "\n",
    "# Values of x0 and x1 for which we will minimize f\n",
    "x0_val = 3.\n",
    "x1_val = 9.\n",
    "\n",
    "x0_t = torch.tensor([x0_val])\n",
    "x1_t = torch.tensor([x1_val])\n",
    "x_val = torch.stack([x0_t, x1_t], dim=-1)\n",
    "\n",
    "#print(x_val.shape)\n",
    "\n",
    "# Buffers to store intermediate values of t and f to plot them later\n",
    "t_sv = []\n",
    "f_sv = []\n",
    "\n",
    "\n",
    "# Initial evaluation\n",
    "with torch.no_grad():\n",
    "    f_val = model(x_val)\n",
    "    t_val = model.t\n",
    "\n",
    "t_sv.append(t_val.item())\n",
    "f_sv.append(f_val.item())\n",
    "\n",
    "# Optimization loop\n",
    "for itr in range(30):\n",
    "    optimizer.zero_grad()  # Zero the gradients\n",
    "    f_val = model(x_val)  # Forward pass\n",
    "    loss = f_val  # Your loss function seems to just return the model output\n",
    "    loss.backward()  # Compute gradients\n",
    "    optimizer.step()  # Update parameters\n",
    "\n",
    "    # Logging current values of t and f\n",
    "    with torch.no_grad():\n",
    "        f_val = model(x_val)\n",
    "        t_val = model.t\n",
    "\n",
    "    t_sv.append(t_val.item())\n",
    "    f_sv.append(f_val.item())"
   ]
  },
  {
   "cell_type": "code",
   "execution_count": null,
   "metadata": {
    "id": "YaOVgz-4f8iX"
   },
   "outputs": [],
   "source": [
    "#just find the nice range for plotting\n",
    "x0 = x1_val/x0_val\n",
    "xhalf = max(abs(t_sv[0]-x0), 5.)\n",
    "#fill array for parabola\n",
    "t_all = np.arange(x0-xhalf, x0+xhalf, xhalf/50.)\n",
    "f_all = np.asarray([(ti*x0_val-x1_val)*(ti*x0_val-x1_val) for ti in t_all])\n",
    "\n",
    "#draw all\n",
    "_, axs = plt.subplots(1, 3, figsize=(16,10))\n",
    "axs[0].plot(t_all, f_all, 'b', alpha=0.3)\n",
    "axs[0].plot(t_sv, f_sv, 'g^')  # -> 'g^--'\n",
    "axs[0].set_title('f(t | x1,x2)')\n",
    "axs[0].set_xlabel('t')\n",
    "axs[0].set_ylabel('f(t)')\n",
    "axs[0].legend(('f(t)', 'training iterations'),  loc='upper center')\n",
    "axs[1].plot(f_sv, '.-')\n",
    "axs[1].set_title('f(itr)');\n",
    "axs[1].set_ylabel('f(t)')\n",
    "axs[1].set_xlabel('training iteration')\n",
    "axs[2].plot(t_sv, '.-')\n",
    "axs[2].set_title('t(itr)');\n",
    "axs[2].set_ylabel('t(itr)')\n",
    "axs[2].set_xlabel('training iteration')\n",
    "plt.show()"
   ]
  },
  {
   "cell_type": "markdown",
   "metadata": {
    "id": "3Loe3VzSgagP"
   },
   "source": [
    "Of course, in the example above, we can compute the solution analytically for $(x0∗t−x1)^2$. Rewriting it for convenience as $y=(ax+b)^2 = a^2x^2 + 2abx +b^2$, we can derive the gradient $\\frac{dy}{dx} = 2a^2x + 2ab$. This can be evaluated for $\\frac{dy}{dx} =0$ with the values of $a=3$ and $b=-9$: $18x = 54$ so $x=3$. This confirms that our optimization process converged to the correct (analytic) solution.\n",
    "\n",
    "In practice, the functions will not be simple, and for sure the derivation of an analytic solution will not be possible. This is why these optimization procedures are so helpful."
   ]
  },
  {
   "cell_type": "markdown",
   "metadata": {
    "id": "EFq8fqLkgRdW"
   },
   "source": [
    "## 7. Exercise 2\n",
    "\n",
    "Try to modify ``x0_val`` and ``x1_val`` in the above code, as well as the ``learning_rate`` and ``t`` initialization value, and see how it affects convergence. Get an intuition on simple example, it is very useful!\n",
    "\n",
    "Try to see when\n",
    "1. convergence is too slow\n",
    "2. oscillation near minimum occurs\n",
    "3. divergence\n"
   ]
  },
  {
   "cell_type": "markdown",
   "metadata": {
    "id": "_FujCL3sgRhu"
   },
   "source": []
  }
 ],
 "metadata": {
  "colab": {
   "provenance": []
  },
  "kernelspec": {
   "display_name": "Python 3 (ipykernel)",
   "language": "python",
   "name": "python3"
  },
  "language_info": {
   "codemirror_mode": {
    "name": "ipython",
    "version": 3
   },
   "file_extension": ".py",
   "mimetype": "text/x-python",
   "name": "python",
   "nbconvert_exporter": "python",
   "pygments_lexer": "ipython3",
   "version": "3.12.2"
  }
 },
 "nbformat": 4,
 "nbformat_minor": 4
}
