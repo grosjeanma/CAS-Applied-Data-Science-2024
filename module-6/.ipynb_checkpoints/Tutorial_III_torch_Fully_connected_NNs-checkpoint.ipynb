{
 "cells": [
  {
   "cell_type": "markdown",
   "metadata": {
    "id": "NTK34uxMjMYL"
   },
   "source": [
    "# Tutorial III: Fully connected NNs\n",
    "\n",
    "<p>\n",
    "Bern Winter School on Machine Learning, 2024<br>\n",
    "Prepared by Mykhailo Vladymyrov and Matthew Vowels.\n",
    "</p>\n",
    "\n",
    "This work is licensed under a <a href=\"http://creativecommons.org/licenses/by-nc-sa/4.0/\">Creative Commons Attribution-NonCommercial-ShareAlike 4.0 International License</a>.\n",
    "\n",
    "In this session we will create a fully-connected neural network to perform handwritten digit recognition using pytorch"
   ]
  },
  {
   "cell_type": "markdown",
   "metadata": {
    "id": "kmjKrW6WjS3K"
   },
   "source": [
    "## 1. Load necessary libraries\n",
    "\n"
   ]
  },
  {
   "cell_type": "code",
   "execution_count": 7,
   "metadata": {
    "id": "f8lKArr6jSgD"
   },
   "outputs": [],
   "source": [
    "import os\n",
    "import sys\n",
    "import tarfile\n",
    "import requests\n",
    "\n",
    "import random\n",
    "import numpy as np\n",
    "import matplotlib.pyplot as plt\n",
    "\n",
    "import torch\n",
    "import torch.nn as nn\n",
    "import torch.nn.functional as F\n",
    "import torch.optim as optim\n",
    "from torchvision import datasets, transforms\n",
    "import torch.utils.data\n",
    "from torch.utils.data import TensorDataset, DataLoader\n",
    "\n",
    "\n",
    "\n",
    "# URL of the file to download\n",
    "url = 'https://github.com/neworldemancer/BMLWS/raw/main/tut_files/tpub0320.tgz'\n",
    "\n",
    "# Path where the file will be saved\n",
    "path = os.path.abspath('.') + '/material.tgz'\n",
    "\n",
    "# Download the file\n",
    "response = requests.get(url)\n",
    "assert response.status_code == 200, \"Download failed\"\n",
    "with open(path, 'wb') as file:\n",
    "    file.write(response.content)\n",
    "\n",
    "# Check if the path is correct\n",
    "assert os.path.exists(path), \"File not found\"\n",
    "\n",
    "# Extract the tar file\n",
    "tar = tarfile.open(path, \"r:gz\")\n",
    "tar.extractall()\n",
    "tar.close()"
   ]
  },
  {
   "cell_type": "markdown",
   "metadata": {
    "id": "duYLZIq-vF28"
   },
   "source": [
    "## 2. Training loop"
   ]
  },
  {
   "cell_type": "markdown",
   "metadata": {
    "id": "hZvqLoJF5jy2"
   },
   "source": [
    "The training as we just saw is done iteratively, by adjusting the model parameters.\n",
    "\n",
    "We perform optimization several times for all traininng dataset. Going through all this dataset is refered to as 'epoch'.\n",
    "\n",
    "When we do training its usually done in two loops. In outer loop we iterate over all epochs. For each epoch we usually split the dataset into small chuncks, batches, and optimization it performed for all of those.\n",
    "\n",
    "It is important that data doesn't go to the training pipeline in same order. So the overall scheme looks like this (pseudocode):\n",
    "\n",
    "\n",
    "```\n",
    "x,y = get_training_data()\n",
    "for epoch in range(number_epochs):\n",
    "   x_shfl,y_shfl = shuffle(x,y)\n",
    "   \n",
    "   for mb_idx in range(number_minibatches_in_batch):\n",
    "       x_mb,y_mb = get_minibatch(x_shfl,y_shfl, mb_idx)\n",
    "       \n",
    "       optimize_on(data=x_mb, labels=y_mb)\n",
    "```"
   ]
  },
  {
   "cell_type": "markdown",
   "metadata": {
    "id": "lmsRNxYLvBvS"
   },
   "source": [
    "## 3. Bulding blocks of a neural network"
   ]
  },
  {
   "cell_type": "markdown",
   "metadata": {
    "id": "x_-ZD3CC8A4m"
   },
   "source": [
    "Neural network consists of layers of neurons. Each neuron performs 2 operations.\n",
    "\n",
    "1. Calculate the linear transformation of the input vector $\\mathbf{x}_i$:\n",
    "$$z_i = \\mathbf{w} \\cdot \\mathbf{x}_i + b = \\sum_j {w_j x_{ij}} + b$$ where $\\mathbf{w}$ is a weight vector and $b$ - a bias, and $j$ traverses each dimension of the input vector\n",
    "2. Perform the nonlinear transformation of the result using the activation function $f$ $$y_i = f(z_i)$$\n",
    "\n",
    "In a fully connected neural network, each layer is a set of N neurons, performing different transformations of the input $\\mathbf{x}_i$ of the same layer, now producing an output **vector** $ \\mathbf{y} _i = f(\\mathbf{z}_i) = f(W\\mathbf{x}_i + \\mathbf{b})$ now with a bias vector $\\mathbf{b}$ and a * *matrix** of weights $W$.\n",
    "\n",
    "Since the output of each layer constitutes the input to the next layer, we can write for layer $l$: $$\\mathbf{x}^l_i = f^{l-1}(\\mathbf{W}^{ l-1} \\mathbf{x}^{ l-1}_i + \\mathbf{b}^{l-1})$$ where $\\mathbf{x}_i^{l=0}$ is the vector d 'network input for data point $i$."
   ]
  },
  {
   "cell_type": "markdown",
   "metadata": {
    "id": "uZx9PQEj8GTe"
   },
   "source": [
    "\n",
    "\n",
    "<img src=\"https://github.com/neworldemancer/BMLWS/raw/main/figures/MLP.png\" alt=\"drawing\" width=\"50%\"/>\n",
    "\n",
    "To simplify building the network, we'll define a helper function, creating neuron layer with given number of outputs:"
   ]
  },
  {
   "cell_type": "code",
   "execution_count": 9,
   "metadata": {
    "id": "DK65Jnay77j-"
   },
   "outputs": [],
   "source": [
    "\n",
    "class Dense(nn.Module):\n",
    "    def __init__(self, units, activation=None):\n",
    "        \"\"\"\n",
    "        Fully connected layer.\n",
    "\n",
    "        Parameters\n",
    "        ----------\n",
    "        units : int\n",
    "            Number of output neurons\n",
    "        activation : None or callable, optional\n",
    "            Non-linear activation function (e.g., torch.nn.functional.relu)\n",
    "        \"\"\"\n",
    "        super(Dense, self).__init__()\n",
    "        self.units = units\n",
    "        self.activation = activation\n",
    "\n",
    "        # Initialize the weights and biases\n",
    "        self.linear = nn.Linear(in_features=units, out_features=units)\n",
    "\n",
    "    def forward(self, inputs):\n",
    "        # Apply linear transformation\n",
    "        outputs = self.linear(inputs)\n",
    "\n",
    "        # Apply activation function if provided\n",
    "        if self.activation is not None:\n",
    "            outputs = self.activation(outputs)\n",
    "\n",
    "        return outputs\n"
   ]
  },
  {
   "cell_type": "markdown",
   "metadata": {
    "id": "GQzdb_ZP8fxg"
   },
   "source": [
    "In the case of multi-class classification, in the last layer, we can use the *softmax* transformation as a non-linear transformation. The softmax for the $j$th element of $\\mathbf{z}_i$ is $$y_{ij} = \\frac{e^{z_{ij}}}{\\sum_{k=1}^{K} e^{z_{ik}}}$$ where $K$ is the total number of classes.\n",
    "\n",
    "\n",
    "For example. before softmax $$[1.0, 2.0, 3.0, \\mathbf{4.0} ]$$ and after: $$[0.0321, 0.0871, 0.2369, \\mathbf{0.6439}]$$ (now the sum is equal to one)\n",
    "\n",
    "We can also now compare the fundamental truth which could be $$[0,0,0,\\mathbf{1}]$$ That is to say that class 4 is the good class and that the network predicted correctly.\n",
    "\n",
    "\n",
    "\n",
    "The **optimization/loss function** in multiclass classification problems is multiclass cross-entropy:\n",
    "$$\\mathcal{L}_i = - \\sum_{k=1}^K y^*_{ik} \\log(y_{ik})$$ where $y^*_{ik}$ is the $k $th component of the unique true label vector $\\mathbf{y}^*_i$, and $y_{ik}$ is the $k$th component of the predicted probability vector $\\mathbf{y}_i$.\n",
    "\n",
    "$$[0.0321, 0.0871, 0.2369, \\mathbf{0.6439}] = [y_{i1}, y_{i2}, y_{i3}, y_{i4}]$$"
   ]
  },
  {
   "cell_type": "markdown",
   "metadata": {
    "id": "U0I6wPiH8lIn"
   },
   "source": [
    "## 4. Structure of a neural network"
   ]
  },
  {
   "cell_type": "code",
   "execution_count": 15,
   "metadata": {
    "id": "Qo8IDRWI8ohv"
   },
   "outputs": [],
   "source": [
    "class MyModel(nn.Module):\n",
    "    def __init__(self, n_input, n_hiddens, n_output):\n",
    "        super(MyModel, self).__init__()\n",
    "\n",
    "        self.ls = []\n",
    "        n_prev = n_input\n",
    "        for i, n_out in enumerate(n_hiddens):\n",
    "          l = nn.Linear(n_prev, n_out)\n",
    "          n_prev = n_out\n",
    "          self.add_module(f'lin_{i}_{n_out}', l)\n",
    "          self.ls.append(l)\n",
    "\n",
    "        self.lout = nn.Linear(n_prev, n_output)\n",
    "\n",
    "    def forward(self, x):\n",
    "        h = x\n",
    "        for li in self.ls:\n",
    "          h = li(h)\n",
    "          h = torch.relu(h)\n",
    "\n",
    "        logits = self.lout(h)\n",
    "        # Apply softmax activation\n",
    "        probs = F.softmax(logits, dim=1)\n",
    "\n",
    "        # Prediction: argmax for classification\n",
    "        pred = torch.argmax(probs, dim=1)\n",
    "\n",
    "        return logits, probs, pred\n"
   ]
  },
  {
   "cell_type": "markdown",
   "metadata": {
    "id": "OyxjipoN9dfS"
   },
   "source": [
    "## 5. Load the data\n",
    "\n",
    "First we will load the data: 60000 training images and 10000 images for validation with some included data transformations.\n",
    "\n",
    "Each image is a 28x28 pixels. For this model we will interpret it as a 1D array of 784 elements."
   ]
  },
  {
   "cell_type": "code",
   "execution_count": 21,
   "metadata": {
    "colab": {
     "base_uri": "https://localhost:8080/"
    },
    "id": "O-EivCFK87eQ",
    "outputId": "a4eed26f-c751-46f0-bb8a-c98039ba6242"
   },
   "outputs": [
    {
     "name": "stdout",
     "output_type": "stream",
     "text": [
      "Train dataset shape: 60000 total images and labels\n",
      "Test dataset shape: 10000 total images and labels\n"
     ]
    }
   ],
   "source": [
    "# Define a transform to normalize the data\n",
    "transform = transforms.Compose([transforms.ToTensor(),\n",
    "                                transforms.Normalize((0.5,), (0.5,)),\n",
    "                                transforms.Lambda(lambda x: torch.flatten(x))])\n",
    "\n",
    "# Download and load the training data\n",
    "trainset = datasets.MNIST('~/.pytorch/MNIST_data/', download=True, train=True, transform=transform)\n",
    "trainloader = DataLoader(trainset, batch_size=64, shuffle=True)\n",
    "\n",
    "# Download and load the test data\n",
    "testset = datasets.MNIST('~/.pytorch/MNIST_data/', download=True, train=False, transform=transform)\n",
    "testloader = DataLoader(testset, batch_size=64, shuffle=True)\n",
    "\n",
    "# Print shapes of the datasets\n",
    "print('Train dataset shape:', len(trainset), 'total images and labels')\n",
    "print('Test dataset shape:', len(testset), 'total images and labels')"
   ]
  },
  {
   "cell_type": "code",
   "execution_count": 29,
   "metadata": {
    "colab": {
     "base_uri": "https://localhost:8080/"
    },
    "id": "bABHqvh_xY60",
    "outputId": "69e876c6-6225-458e-afe9-2402868afe8d"
   },
   "outputs": [
    {
     "name": "stdout",
     "output_type": "stream",
     "text": [
      "torch.Size([784]) 5\n"
     ]
    }
   ],
   "source": [
    "for el in trainset:\n",
    "  x, y = el\n",
    "  print(x.shape, y)\n",
    "  break"
   ]
  },
  {
   "cell_type": "code",
   "execution_count": 27,
   "metadata": {
    "colab": {
     "base_uri": "https://localhost:8080/"
    },
    "id": "prPyGDvxxw-d",
    "outputId": "4842169b-0eb9-4cb5-c70e-84c9546d7532"
   },
   "outputs": [
    {
     "name": "stdout",
     "output_type": "stream",
     "text": [
      "torch.Size([64, 784]) torch.Size([64])\n"
     ]
    }
   ],
   "source": [
    "for el in trainloader:\n",
    "  x, y = el\n",
    "  print(x.shape, y.shape)\n",
    "  break"
   ]
  },
  {
   "cell_type": "markdown",
   "metadata": {
    "id": "Z8Rjh7My9pFB"
   },
   "source": [
    " Let's take a look at some of the example images"
   ]
  },
  {
   "cell_type": "code",
   "execution_count": 31,
   "metadata": {
    "colab": {
     "base_uri": "https://localhost:8080/",
     "height": 363
    },
    "id": "wIgya80r9ABY",
    "outputId": "c8dbe41c-4cf1-412f-8a11-2090a0ea12d6"
   },
   "outputs": [
    {
     "data": {
      "image/png": "[encoded data removed]",
      "text/plain": [
       "<Figure size 1000x1000 with 5 Axes>"
      ]
     },
     "metadata": {},
     "output_type": "display_data"
    },
    {
     "data": {
      "image/png": "[encoded data removed]",
      "text/plain": [
       "<Figure size 1000x1000 with 5 Axes>"
      ]
     },
     "metadata": {},
     "output_type": "display_data"
    }
   ],
   "source": [
    "def show_images(images, labels, num_images=5):\n",
    "    plt.figure(figsize=(10, 10))\n",
    "    for i in range(num_images):\n",
    "        plt.subplot(1, num_images, i+1)\n",
    "        plt.xticks([])\n",
    "        plt.yticks([])\n",
    "        plt.grid(False)\n",
    "        # Reshape the flattened images back to 28x28 for display\n",
    "        plt.imshow(images[i].numpy().reshape(28, 28), cmap='gray')\n",
    "        plt.xlabel('Label: {}'.format(labels[i].item()))\n",
    "    plt.show()\n",
    "\n",
    "# Function to get random images and labels from a dataset\n",
    "def get_random_images(loader, num_images=5):\n",
    "    dataiter = iter(loader)\n",
    "    images, labels = next(dataiter)\n",
    "    indices = list(range(len(images)))\n",
    "    random_indices = random.sample(indices, num_images)\n",
    "    random_images = images[random_indices]\n",
    "    random_labels = labels[random_indices]\n",
    "    return random_images, random_labels\n",
    "\n",
    "# Get random images and labels from the training set\n",
    "random_images, random_labels = get_random_images(trainloader, num_images=5)\n",
    "# Show images\n",
    "show_images(random_images, random_labels, num_images=5)\n",
    "\n",
    "# and for the test set:\n",
    "random_images, random_labels = get_random_images(testloader, num_images=5)\n",
    "show_images(random_images, random_labels, num_images=5)\n",
    "\n"
   ]
  },
  {
   "cell_type": "markdown",
   "metadata": {
    "id": "ZM0bbfI4-4Ii"
   },
   "source": [
    "Check out the dimensions of the data"
   ]
  },
  {
   "cell_type": "code",
   "execution_count": 33,
   "metadata": {
    "colab": {
     "base_uri": "https://localhost:8080/"
    },
    "id": "1L2cggGn948g",
    "outputId": "99791c49-92c7-4dd2-9af2-e44845767714"
   },
   "outputs": [
    {
     "name": "stdout",
     "output_type": "stream",
     "text": [
      "Shape of the images: torch.Size([5, 784])\n",
      "Shape of the labels: torch.Size([5])\n",
      "tensor([8, 0, 0, 8, 2])\n"
     ]
    }
   ],
   "source": [
    "\n",
    "# Inspect the dimensions of the sample elements\n",
    "print(\"Shape of the images:\", random_images.shape)\n",
    "print(\"Shape of the labels:\", random_labels.shape)\n",
    "print(random_labels)"
   ]
  },
  {
   "cell_type": "markdown",
   "metadata": {
    "id": "z6jMPCtL_3TR"
   },
   "source": [
    "## 6. Bulding a neural network\n",
    "\n",
    "Number of inputs for neurons will be given by input data, i.e. image dims (flattened), size. Output - by number of classes, 10 in our case."
   ]
  },
  {
   "cell_type": "code",
   "execution_count": 37,
   "metadata": {
    "id": "EYGX-9RP-6B4"
   },
   "outputs": [],
   "source": [
    "n_hidden = []  # [10]\n",
    "model = MyModel(n_input=784, n_hiddens=n_hidden, n_output=10)  # 784 input features for 28x28 images, 10 output classes\n",
    "\n",
    "# Loss function\n",
    "criterion = nn.CrossEntropyLoss()\n",
    "\n",
    "# Optimizer (e.g., Adam)\n",
    "optimizer = optim.Adam(model.parameters(), lr=0.001)\n"
   ]
  },
  {
   "cell_type": "code",
   "execution_count": 39,
   "metadata": {
    "id": "VTcudsB5Hkoi"
   },
   "outputs": [],
   "source": [
    "def get_npars(model):\n",
    "  return np.sum([np.prod(list(p.shape)) for p in model.parameters()])"
   ]
  },
  {
   "cell_type": "code",
   "execution_count": null,
   "metadata": {
    "colab": {
     "base_uri": "https://localhost:8080/"
    },
    "id": "jmzF7K2VJetY",
    "outputId": "5f21ca87-6162-47dc-f0df-ae79e254a7ac"
   },
   "outputs": [
    {
     "data": {
      "text/plain": [
       "7850"
      ]
     },
     "execution_count": 11,
     "metadata": {},
     "output_type": "execute_result"
    }
   ],
   "source": [
    "get_npars(model)"
   ]
  },
  {
   "cell_type": "markdown",
   "metadata": {
    "id": "f5o71gymAA9h"
   },
   "source": [
    "Defining a training function:"
   ]
  },
  {
   "cell_type": "code",
   "execution_count": 41,
   "metadata": {
    "id": "dTrUXsn1_04A"
   },
   "outputs": [],
   "source": [
    "def train(model, trainloader, criterion, optimizer):\n",
    "    model.train()\n",
    "    running_loss = 0.0\n",
    "    for images, labels in trainloader:\n",
    "        optimizer.zero_grad()  # reset gradients\n",
    "        output, _, _ = model(images)\n",
    "        loss = criterion(output, labels)\n",
    "        loss.backward()    # compute gradients\n",
    "        optimizer.step()   # update parameters with gradients\n",
    "        running_loss += loss.item()\n",
    "    return running_loss / len(trainloader)"
   ]
  },
  {
   "cell_type": "markdown",
   "metadata": {
    "id": "bdMh6wDbADtZ"
   },
   "source": [
    "Defining a testing function:"
   ]
  },
  {
   "cell_type": "code",
   "execution_count": 43,
   "metadata": {
    "id": "u7h2JtuFADQA"
   },
   "outputs": [],
   "source": [
    "def test(model, testloader, criterion):\n",
    "    model.eval()\n",
    "    running_loss = 0.0\n",
    "    n_correct = 0\n",
    "    with torch.no_grad():\n",
    "        for images, labels in testloader:\n",
    "            output, prob, pred = model(images)\n",
    "            loss = criterion(output, labels)\n",
    "            running_loss += loss.item()\n",
    "            correct = torch.sum(pred == labels)\n",
    "            n_correct =+ correct\n",
    "    return running_loss / len(testloader)  #, n_correct/len(testloader)/testloader.batch_size"
   ]
  },
  {
   "cell_type": "code",
   "execution_count": 45,
   "metadata": {
    "colab": {
     "base_uri": "https://localhost:8080/"
    },
    "id": "ZFsha_J42uPv",
    "outputId": "6c00e498-87df-4b91-9a4c-67c1ed06778a"
   },
   "outputs": [
    {
     "data": {
      "text/plain": [
       "64"
      ]
     },
     "execution_count": 45,
     "metadata": {},
     "output_type": "execute_result"
    }
   ],
   "source": [
    "testloader.batch_size"
   ]
  },
  {
   "cell_type": "markdown",
   "metadata": {
    "id": "OGvXGVvaAH_g"
   },
   "source": [
    "Training the model"
   ]
  },
  {
   "cell_type": "code",
   "execution_count": 51,
   "metadata": {
    "colab": {
     "base_uri": "https://localhost:8080/"
    },
    "id": "B34VjSa2AGsf",
    "outputId": "3f9efd73-c828-4fff-e79e-1b2fcbbc1ac8"
   },
   "outputs": [
    {
     "name": "stdout",
     "output_type": "stream",
     "text": [
      "Epoch 1/10, Train Loss: 0.2785, Test Loss: 0.2773\n",
      "Epoch 2/10, Train Loss: 0.2769, Test Loss: 0.2921\n",
      "Epoch 3/10, Train Loss: 0.2749, Test Loss: 0.2802\n",
      "Epoch 4/10, Train Loss: 0.2721, Test Loss: 0.2824\n",
      "Epoch 5/10, Train Loss: 0.2736, Test Loss: 0.2922\n",
      "Epoch 6/10, Train Loss: 0.2716, Test Loss: 0.2889\n",
      "Epoch 7/10, Train Loss: 0.2706, Test Loss: 0.3067\n",
      "Epoch 8/10, Train Loss: 0.2694, Test Loss: 0.2918\n",
      "Epoch 9/10, Train Loss: 0.2682, Test Loss: 0.2790\n",
      "Epoch 10/10, Train Loss: 0.2684, Test Loss: 0.2749\n"
     ]
    }
   ],
   "source": [
    "num_epochs = 10\n",
    "train_losses = []\n",
    "test_losses = []\n",
    "for epoch in range(num_epochs):\n",
    "    train_loss = train(model, trainloader, criterion, optimizer)\n",
    "    test_loss = test(model, testloader, criterion)\n",
    "\n",
    "    train_losses.append(train_loss)\n",
    "    test_losses.append(test_loss)\n",
    "\n",
    "    print(f'Epoch {epoch+1}/{num_epochs}, Train Loss: {train_loss:.4f}, Test Loss: {test_loss:.4f}')"
   ]
  },
  {
   "cell_type": "markdown",
   "metadata": {
    "id": "XjNpSOZ8BdTA"
   },
   "source": [
    "Visualize the loss curves"
   ]
  },
  {
   "cell_type": "code",
   "execution_count": 55,
   "metadata": {
    "colab": {
     "base_uri": "https://localhost:8080/",
     "height": 465
    },
    "id": "tQNq_xOGAJc_",
    "outputId": "c949ccd0-b670-4eea-d45a-a70e4b6d5ceb"
   },
   "outputs": [
    {
     "data": {
      "image/png": "[encoded data removed]",
      "text/plain": [
       "<Figure size 1000x500 with 1 Axes>"
      ]
     },
     "metadata": {},
     "output_type": "display_data"
    }
   ],
   "source": [
    "# Plotting\n",
    "fig, ax = plt.subplots(figsize=(10, 5))\n",
    "ax.plot(range(num_epochs), train_losses, label='Training Loss')\n",
    "ax.plot(range(num_epochs), test_losses, label='Test Loss')\n",
    "ax.set_xlabel('Epoch')\n",
    "ax.set_ylabel('Loss')\n",
    "ax.legend(loc='upper right')\n",
    "plt.show()"
   ]
  },
  {
   "cell_type": "code",
   "execution_count": 57,
   "metadata": {
    "colab": {
     "base_uri": "https://localhost:8080/"
    },
    "id": "_z0KQzL9_lOK",
    "outputId": "5a4d734b-bb97-427e-92ad-d340a5aec001"
   },
   "outputs": [
    {
     "name": "stdout",
     "output_type": "stream",
     "text": [
      "7840\n",
      "10\n"
     ]
    }
   ],
   "source": [
    "for p in model.parameters():\n",
    "  print(np.prod(list(p.shape)))"
   ]
  },
  {
   "cell_type": "code",
   "execution_count": 59,
   "metadata": {
    "colab": {
     "base_uri": "https://localhost:8080/"
    },
    "id": "zPUM_HJ6Hw1L",
    "outputId": "a07aca8f-605c-4272-81d3-0e5060611338"
   },
   "outputs": [
    {
     "data": {
      "text/plain": [
       "7850"
      ]
     },
     "execution_count": 59,
     "metadata": {},
     "output_type": "execute_result"
    }
   ],
   "source": [
    "get_npars(model)"
   ]
  },
  {
   "cell_type": "markdown",
   "metadata": {
    "id": "WJxx2VgNBrJw"
   },
   "source": [
    "Evaluate network performance using a basic accuracy metric:\n",
    "\n",
    "$$\\mbox{Acc}= \\frac{1}{N}\\sum_{i=1}^N \\mathbb{I}(y_i = y^*_i)$$\n",
    "\n",
    "where $\\mathbb{I}()$ is the indicator function.\n",
    "\n",
    "\n",
    "Also investigate what an incorrect prediction looks like..."
   ]
  },
  {
   "cell_type": "code",
   "execution_count": 61,
   "metadata": {
    "colab": {
     "base_uri": "https://localhost:8080/"
    },
    "id": "ogO__Cv9BtYO",
    "outputId": "d29708b6-b956-43d4-f211-4032cab7a8ab"
   },
   "outputs": [
    {
     "name": "stdout",
     "output_type": "stream",
     "text": [
      "Accuracy: 0.9236\n"
     ]
    }
   ],
   "source": [
    "def get_predictions(model, loader):\n",
    "    model.eval()\n",
    "    predictions = []\n",
    "    labels = []\n",
    "    images_list = []\n",
    "    with torch.no_grad():\n",
    "        for images, label in loader:\n",
    "            output, _, _ = model(images)\n",
    "            pred = output.argmax(dim=1)\n",
    "            predictions.extend(pred.tolist())\n",
    "            labels.extend(label.tolist())\n",
    "            images_list.extend(images)\n",
    "    return predictions, labels, images_list\n",
    "\n",
    "def calculate_accuracy(predictions, labels):\n",
    "    correct = sum(pred == label for pred, label in zip(predictions, labels))\n",
    "    total = len(labels)\n",
    "    accuracy = correct / total\n",
    "    return accuracy\n",
    "\n",
    "# Get predictions, labels, and images\n",
    "predictions, labels, images_list = get_predictions(model, testloader)\n",
    "correct = [pred == label for pred, label in zip(predictions, labels)]\n",
    "\n",
    "accuracy = calculate_accuracy(predictions, labels)\n",
    "\n",
    "print(f\"Accuracy: {accuracy}\")"
   ]
  },
  {
   "cell_type": "markdown",
   "metadata": {
    "id": "E43y5wzgEkO6"
   },
   "source": [
    "Aggregate a correct and incorrect example and visualize:"
   ]
  },
  {
   "cell_type": "code",
   "execution_count": 64,
   "metadata": {
    "colab": {
     "base_uri": "https://localhost:8080/",
     "height": 922
    },
    "id": "M_XRml4MB4AG",
    "outputId": "2e0daf70-e52c-49c8-d25d-b2daba07ffbb"
   },
   "outputs": [
    {
     "name": "stdout",
     "output_type": "stream",
     "text": [
      "First incorrect digit is at index: 7\n"
     ]
    },
    {
     "data": {
      "image/png": "[encoded data removed]",
      "text/plain": [
       "<Figure size 640x480 with 1 Axes>"
      ]
     },
     "metadata": {},
     "output_type": "display_data"
    },
    {
     "name": "stdout",
     "output_type": "stream",
     "text": [
      "First correct digit is at index: 0\n"
     ]
    },
    {
     "data": {
      "image/png": "[encoded data removed]",
      "text/plain": [
       "<Figure size 640x480 with 1 Axes>"
      ]
     },
     "metadata": {},
     "output_type": "display_data"
    }
   ],
   "source": [
    "\n",
    "# Find the index of the first incorrect and correct prediction\n",
    "wrong_idx = next((i for i, correct in enumerate(correct) if not correct), None)\n",
    "correct_idx = next((i for i, correct in enumerate(correct) if correct), None)\n",
    "\n",
    "# Function to display an image\n",
    "def display_image(image, title):\n",
    "    plt.imshow(image.numpy().reshape(28, 28), cmap='gray')\n",
    "    plt.title(title)\n",
    "    plt.show()\n",
    "\n",
    "# Display the first incorrect digit (if any incorrect are found)\n",
    "if wrong_idx is not None:\n",
    "    print(f\"First incorrect digit is at index: {wrong_idx}\")\n",
    "    display_image(images_list[wrong_idx], f\"Predicted: {predictions[wrong_idx]}, Actual: {labels[wrong_idx]}\")\n",
    "else:\n",
    "    print(\"No incorrect predictions found\")\n",
    "\n",
    "# Display the first correct digit (if any correct are found)\n",
    "if correct_idx is not None:\n",
    "    print(f\"First correct digit is at index: {correct_idx}\")\n",
    "    display_image(images_list[correct_idx], f\"Predicted: {predictions[correct_idx]}, Correct: {labels[correct_idx]}\")\n",
    "else:\n",
    "    print(\"No correct predictions found\")"
   ]
  },
  {
   "cell_type": "markdown",
   "metadata": {
    "id": "Hjw4ZIz1LZZ3"
   },
   "source": [
    "## 7. Exercise 1\n",
    "\n",
    "Build a network with two layers, first with `tf.nn.relu` ReLU activation and 1500 neurons and second one with 10 and softmax activation. Start with `learning_rate` of 0.001 and find optimal value."
   ]
  },
  {
   "cell_type": "code",
   "execution_count": 7,
   "metadata": {
    "id": "Hjw4ZIz1LZZ3"
   },
   "outputs": [],
   "source": [
    "import torch\n",
    "import torch.nn as nn\n",
    "import torch.optim as optim\n",
    "from torch.utils.data import DataLoader, TensorDataset\n",
    "\n",
    "class SimpleNN(nn.Module):\n",
    "    def __init__(self):\n",
    "        super(SimpleNN, self).__init__()\n",
    "        self.fc1 = nn.Linear(784, 1500)\n",
    "        self.relu = n.ReLU()\n",
    "        self.fc2 = nn.linear(1500, 10)\n",
    "        self.softmap = n.Softmax(dim=1)\n",
    "\n",
    "    def forward(self, x):\n",
    "        x = self.fc1(x)\n",
    "        x = self.relu(x)\n",
    "        x = self.fc2(x)\n",
    "        x = self.softmax(x)\n",
    "        return x\n",
    "\n",
    "X = torch.rand(1000, 784)\n",
    "y = torch.randint(0, 10, (1000,))\n",
    "\n",
    "dataset = TensorDataset(X, y)\n",
    "dataloader = DataLoader(dataset, batch_size=64, shuffle=True)\n"
   ]
  },
  {
   "cell_type": "markdown",
   "metadata": {
    "id": "gDS2USefLdp_"
   },
   "source": [
    "## 8. Gradients visualization"
   ]
  },
  {
   "cell_type": "code",
   "execution_count": null,
   "metadata": {
    "id": "PBunQ5VrE-9w"
   },
   "outputs": [],
   "source": []
  },
  {
   "cell_type": "markdown",
   "metadata": {
    "id": "el8EtuqKMC_v"
   },
   "source": [
    "We will display several images, and corresponding gradients of maximal output activation, as well as all activations. This might help better understand how our network processes the imput data."
   ]
  },
  {
   "cell_type": "code",
   "execution_count": 65,
   "metadata": {
    "id": "5WGirHW5K-On"
   },
   "outputs": [],
   "source": [
    "model.eval()\n",
    "grads_all_classes = []\n",
    "\n",
    "\n",
    "# The code uses torch.autograd.grad to compute the gradients of the model's predictions with respect to the input image.\n",
    "# This essentially answers the question, \"How does changing each pixel in the input image affect the model's confidence in its prediction for each class (digit)?\"\n",
    "\n",
    "# For each digit class (0 to 9), the code computes a separate gradient map.\n",
    "# It does so by setting grad_outputs to a tensor that is all zeros except for a one at the current class's position.\n",
    "# This way, the computed gradient reflects how much each pixel in the input image contributes to the model's prediction for that specific class.\n",
    "\n",
    "dataiter = iter(trainloader)\n",
    "images, labels = next(dataiter)\n",
    "\n",
    "# Choose an index and select a single image and label\n",
    "idx = 1\n",
    "inp_v = images[idx:idx+1]  # Selecting the image\n",
    "img = inp_v.squeeze()  # The original 2D image for display\n",
    "\n",
    "# Enable gradients for input\n",
    "inp_v.requires_grad = True\n",
    "\n",
    "# Forward pass and compute gradients\n",
    "model.eval()\n",
    "with torch.set_grad_enabled(True):\n",
    "    preds = model(inp_v)[0]  # Assuming the model returns a tuple (output, argmax)\n",
    "    for i in range(preds.size(1)):  # Iterate over each class\n",
    "        grad_outputs = torch.zeros_like(preds)\n",
    "        grad_outputs[0, i] = 1\n",
    "        grads = torch.autograd.grad(outputs=preds, inputs=inp_v, grad_outputs=grad_outputs, create_graph=True)[0]\n",
    "        grads_all_classes.append(grads)\n",
    "\n",
    "# Stack all gradients and reshape to desired format\n",
    "grads_stacked = torch.stack(grads_all_classes).view(preds.size(1), 28, 28).detach().numpy()\n",
    "\n"
   ]
  },
  {
   "cell_type": "markdown",
   "metadata": {
    "id": "bZ2y6f3BaWBl"
   },
   "source": [
    "Each of the following subplots shows the gradient map for a particular class. These maps can be interpreted as heatmaps indicating which regions of the input image are most critical for the model's prediction of that particular digit.\n",
    "Brighter areas in a gradient map indicate pixels that, if changed, would have a larger impact on the model's prediction for that class. This can give insights into what features the model is focusing on for each class.\n",
    "\n",
    "\n",
    "https://medium.com/geekculture/how-visualizations-help-make-sense-of-deep-learning-a408ab00688f\n"
   ]
  },
  {
   "cell_type": "code",
   "execution_count": 66,
   "metadata": {
    "colab": {
     "base_uri": "https://localhost:8080/",
     "height": 195
    },
    "id": "_UQWUFI4Magu",
    "outputId": "f2ddd850-2487-49df-a274-b021424c3205"
   },
   "outputs": [
    {
     "data": {
      "image/png": "[encoded data removed]",
      "text/plain": [
       "<Figure size 4510x400 with 11 Axes>"
      ]
     },
     "metadata": {},
     "output_type": "display_data"
    }
   ],
   "source": [
    "# Each of the following subplots shows the gradient map for a particular class.\n",
    "# These maps can be interpreted as heatmaps indicating which regions of the input image are most critical for the model's prediction of that particular digit.\n",
    "# Brighter areas in a gradient map indicate pixels that, if changed, would have a larger impact on the model's prediction for that class.\n",
    "# This can give insights into what features the model is focusing on for each class.\n",
    "\n",
    "# Reshape the flattened image back to 2D for display\n",
    "img_2d = img.view(28, 28).numpy()\n",
    "\n",
    "# Plotting\n",
    "fig, axs = plt.subplots(1, 11, figsize=(4.1 * 11, 4))\n",
    "axs[0].imshow(img_2d, cmap='gray')  # Display the reshaped original image\n",
    "axs[0].set_title('raw')\n",
    "vmin, vmax = grads_stacked.min(), grads_stacked.max()\n",
    "\n",
    "\n",
    "for i, g in enumerate(grads_stacked):\n",
    "    axs[i + 1].imshow(g, cmap='gray', vmin=vmin, vmax=vmax)\n",
    "    axs[i + 1].set_title(r'$\\frac{\\partial\\;P(digit\\,%d)}{\\partial\\;input}$' % i, fontdict={'size': 16})\n",
    "\n",
    "plt.show()"
   ]
  },
  {
   "cell_type": "code",
   "execution_count": null,
   "metadata": {
    "id": "-f8DIi_VcQhl"
   },
   "outputs": [],
   "source": []
  },
  {
   "cell_type": "code",
   "execution_count": null,
   "metadata": {
    "id": "Opvg5YH_eIHR"
   },
   "outputs": [],
   "source": []
  }
 ],
 "metadata": {
  "colab": {
   "provenance": []
  },
  "kernelspec": {
   "display_name": "Python 3 (ipykernel)",
   "language": "python",
   "name": "python3"
  },
  "language_info": {
   "codemirror_mode": {
    "name": "ipython",
    "version": 3
   },
   "file_extension": ".py",
   "mimetype": "text/x-python",
   "name": "python",
   "nbconvert_exporter": "python",
   "pygments_lexer": "ipython3",
   "version": "3.12.2"
  }
 },
 "nbformat": 4,
 "nbformat_minor": 4
}
